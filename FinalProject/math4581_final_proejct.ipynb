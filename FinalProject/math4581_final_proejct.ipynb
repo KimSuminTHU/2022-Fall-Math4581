{
 "cells": [
  {
   "cell_type": "markdown",
   "metadata": {},
   "source": [
    "# MATH 4581 Final Project \n",
    "## 3 different ways to calculate Value at Risk(VaR) - Sumin Kim\n",
    "The maximum amount of loss that can be incurred by Monte Carlo simulations (Value at Risk, hereinafter referred to as VaR) is used to measure the risk of the portfolio. The difference from volatility is that the VaR statistically measures the maximum loss and probability that a portfolio can incur over a period of time, ignoring profits. This is why the VaR is usually expressed as an absolute value (because it is viewed only in the case of loss).\n",
    "There are three methods to calculate Value at Risk, The first one is Historcial Method, the second one is Variance Covariance method, and the last one is Monte Carlo method. \n"
   ]
  },
  {
   "cell_type": "markdown",
   "metadata": {},
   "source": [
    "# 0. Statistics on the data \n",
    "On the project, I will use stock data from Jan 2010 to Dec 2022 of Apple, listed in NASDAQ and perform those 3 different methods to calculate VaR.\n",
    "Below is the statistics of the data.  "
   ]
  },
  {
   "cell_type": "code",
   "execution_count": 64,
   "metadata": {},
   "outputs": [
    {
     "name": "stdout",
     "output_type": "stream",
     "text": [
      "Collecting jupyter_contrib_nbextensions\n",
      "  Downloading jupyter_contrib_nbextensions-0.7.0.tar.gz (23.5 MB)\n",
      "\u001b[K     |████████████████████████████████| 23.5 MB 4.6 MB/s eta 0:00:01\n",
      "\u001b[?25hCollecting ipython_genutils\n",
      "  Using cached ipython_genutils-0.2.0-py2.py3-none-any.whl (26 kB)\n",
      "Collecting jupyter_contrib_core>=0.3.3\n",
      "  Downloading jupyter_contrib_core-0.4.2.tar.gz (17 kB)\n",
      "Requirement already satisfied: jupyter_core in /Library/Frameworks/Python.framework/Versions/3.9/lib/python3.9/site-packages (from jupyter_contrib_nbextensions) (4.9.1)\n",
      "Collecting jupyter_highlight_selected_word>=0.1.1\n",
      "  Downloading jupyter_highlight_selected_word-0.2.0-py2.py3-none-any.whl (11 kB)\n",
      "Collecting jupyter_nbextensions_configurator>=0.4.0\n",
      "  Downloading jupyter_nbextensions_configurator-0.6.1.tar.gz (481 kB)\n",
      "\u001b[K     |████████████████████████████████| 481 kB 31.1 MB/s eta 0:00:01\n",
      "\u001b[?25hCollecting nbconvert>=6.0\n",
      "  Downloading nbconvert-7.2.6-py3-none-any.whl (273 kB)\n",
      "\u001b[K     |████████████████████████████████| 273 kB 30.6 MB/s eta 0:00:01\n",
      "\u001b[?25hCollecting notebook>=6.0\n",
      "  Downloading notebook-6.5.2-py3-none-any.whl (439 kB)\n",
      "\u001b[K     |████████████████████████████████| 439 kB 33.2 MB/s eta 0:00:01\n",
      "\u001b[?25hRequirement already satisfied: tornado in /Library/Frameworks/Python.framework/Versions/3.9/lib/python3.9/site-packages (from jupyter_contrib_nbextensions) (6.1)\n",
      "Requirement already satisfied: traitlets>=4.1 in /Library/Frameworks/Python.framework/Versions/3.9/lib/python3.9/site-packages (from jupyter_contrib_nbextensions) (5.1.1)\n",
      "Requirement already satisfied: lxml in /Library/Frameworks/Python.framework/Versions/3.9/lib/python3.9/site-packages (from jupyter_contrib_nbextensions) (4.9.1)\n",
      "Requirement already satisfied: setuptools in /Library/Frameworks/Python.framework/Versions/3.9/lib/python3.9/site-packages (from jupyter_contrib_core>=0.3.3->jupyter_contrib_nbextensions) (56.0.0)\n",
      "Collecting pyyaml\n",
      "  Downloading PyYAML-6.0-cp39-cp39-macosx_10_9_x86_64.whl (197 kB)\n",
      "\u001b[K     |████████████████████████████████| 197 kB 13.6 MB/s eta 0:00:01\n",
      "\u001b[?25hCollecting pandocfilters>=1.4.1\n",
      "  Downloading pandocfilters-1.5.0-py2.py3-none-any.whl (8.7 kB)\n",
      "Requirement already satisfied: beautifulsoup4 in /Library/Frameworks/Python.framework/Versions/3.9/lib/python3.9/site-packages (from nbconvert>=6.0->jupyter_contrib_nbextensions) (4.11.1)\n",
      "Collecting bleach\n",
      "  Downloading bleach-5.0.1-py3-none-any.whl (160 kB)\n",
      "\u001b[K     |████████████████████████████████| 160 kB 24.1 MB/s eta 0:00:01\n",
      "\u001b[?25hCollecting mistune<3,>=2.0.3\n",
      "  Downloading mistune-2.0.4-py2.py3-none-any.whl (24 kB)\n",
      "Collecting markupsafe>=2.0\n",
      "  Downloading MarkupSafe-2.1.1-cp39-cp39-macosx_10_9_x86_64.whl (13 kB)\n",
      "Collecting jupyterlab-pygments\n",
      "  Downloading jupyterlab_pygments-0.2.2-py2.py3-none-any.whl (21 kB)\n",
      "Collecting jinja2>=3.0\n",
      "  Downloading Jinja2-3.1.2-py3-none-any.whl (133 kB)\n",
      "\u001b[K     |████████████████████████████████| 133 kB 25.4 MB/s eta 0:00:01\n",
      "\u001b[?25hRequirement already satisfied: pygments>=2.4.1 in /Library/Frameworks/Python.framework/Versions/3.9/lib/python3.9/site-packages (from nbconvert>=6.0->jupyter_contrib_nbextensions) (2.11.2)\n",
      "Collecting importlib-metadata>=3.6\n",
      "  Downloading importlib_metadata-5.1.0-py3-none-any.whl (21 kB)\n",
      "Collecting tinycss2\n",
      "  Downloading tinycss2-1.2.1-py3-none-any.whl (21 kB)\n",
      "Requirement already satisfied: packaging in /Library/Frameworks/Python.framework/Versions/3.9/lib/python3.9/site-packages (from nbconvert>=6.0->jupyter_contrib_nbextensions) (22.0)\n",
      "Collecting defusedxml\n",
      "  Using cached defusedxml-0.7.1-py2.py3-none-any.whl (25 kB)\n",
      "Collecting nbformat>=5.1\n",
      "  Downloading nbformat-5.7.0-py3-none-any.whl (77 kB)\n",
      "\u001b[K     |████████████████████████████████| 77 kB 12.8 MB/s eta 0:00:01\n",
      "\u001b[?25hCollecting nbclient>=0.5.0\n",
      "  Downloading nbclient-0.7.2-py3-none-any.whl (71 kB)\n",
      "\u001b[K     |████████████████████████████████| 71 kB 1.1 MB/s  eta 0:00:01\n",
      "\u001b[?25hCollecting zipp>=0.5\n",
      "  Downloading zipp-3.11.0-py3-none-any.whl (6.6 kB)\n",
      "Collecting jupyter_core\n",
      "  Downloading jupyter_core-5.1.0-py3-none-any.whl (92 kB)\n",
      "\u001b[K     |████████████████████████████████| 92 kB 1.5 MB/s  eta 0:00:01\n",
      "\u001b[?25hRequirement already satisfied: jupyter-client>=6.1.12 in /Library/Frameworks/Python.framework/Versions/3.9/lib/python3.9/site-packages (from nbclient>=0.5.0->nbconvert>=6.0->jupyter_contrib_nbextensions) (7.1.1)\n",
      "Collecting traitlets>=4.1\n",
      "  Downloading traitlets-5.7.0-py3-none-any.whl (109 kB)\n",
      "\u001b[K     |████████████████████████████████| 109 kB 23.4 MB/s eta 0:00:01\n",
      "\u001b[?25hRequirement already satisfied: entrypoints in /Library/Frameworks/Python.framework/Versions/3.9/lib/python3.9/site-packages (from jupyter-client>=6.1.12->nbclient>=0.5.0->nbconvert>=6.0->jupyter_contrib_nbextensions) (0.3)\n",
      "Requirement already satisfied: python-dateutil>=2.1 in /Library/Frameworks/Python.framework/Versions/3.9/lib/python3.9/site-packages (from jupyter-client>=6.1.12->nbclient>=0.5.0->nbconvert>=6.0->jupyter_contrib_nbextensions) (2.8.2)\n",
      "Requirement already satisfied: nest-asyncio>=1.5 in /Library/Frameworks/Python.framework/Versions/3.9/lib/python3.9/site-packages (from jupyter-client>=6.1.12->nbclient>=0.5.0->nbconvert>=6.0->jupyter_contrib_nbextensions) (1.5.4)\n",
      "Requirement already satisfied: pyzmq>=13 in /Library/Frameworks/Python.framework/Versions/3.9/lib/python3.9/site-packages (from jupyter-client>=6.1.12->nbclient>=0.5.0->nbconvert>=6.0->jupyter_contrib_nbextensions) (22.3.0)\n",
      "Collecting platformdirs>=2.5\n",
      "  Downloading platformdirs-2.6.0-py3-none-any.whl (14 kB)\n",
      "Collecting jsonschema>=2.6\n",
      "  Downloading jsonschema-4.17.3-py3-none-any.whl (90 kB)\n",
      "\u001b[K     |████████████████████████████████| 90 kB 15.0 MB/s eta 0:00:01\n",
      "\u001b[?25hCollecting fastjsonschema\n",
      "  Downloading fastjsonschema-2.16.2-py3-none-any.whl (22 kB)\n",
      "Collecting pyrsistent!=0.17.0,!=0.17.1,!=0.17.2,>=0.14.0\n",
      "  Downloading pyrsistent-0.19.2-cp39-cp39-macosx_10_9_universal2.whl (82 kB)\n",
      "\u001b[K     |████████████████████████████████| 82 kB 2.5 MB/s  eta 0:00:01\n",
      "\u001b[?25hCollecting attrs>=17.4.0\n",
      "  Using cached attrs-22.1.0-py2.py3-none-any.whl (58 kB)\n",
      "Collecting argon2-cffi\n",
      "  Downloading argon2_cffi-21.3.0-py3-none-any.whl (14 kB)\n",
      "Collecting terminado>=0.8.3\n",
      "  Downloading terminado-0.17.1-py3-none-any.whl (17 kB)\n",
      "Collecting nbclassic>=0.4.7\n",
      "  Downloading nbclassic-0.4.8-py3-none-any.whl (9.8 MB)\n",
      "\u001b[K     |████████████████████████████████| 9.8 MB 31.9 MB/s eta 0:00:01ta 0:00:01\n",
      "\u001b[?25hRequirement already satisfied: ipykernel in /Library/Frameworks/Python.framework/Versions/3.9/lib/python3.9/site-packages (from notebook>=6.0->jupyter_contrib_nbextensions) (6.7.0)\n",
      "Collecting prometheus-client\n",
      "  Downloading prometheus_client-0.15.0-py3-none-any.whl (60 kB)\n",
      "\u001b[K     |████████████████████████████████| 60 kB 10.1 MB/s eta 0:00:01\n",
      "\u001b[?25hCollecting Send2Trash>=1.8.0\n",
      "  Downloading Send2Trash-1.8.0-py3-none-any.whl (18 kB)\n",
      "Collecting jupyter-server>=1.8\n",
      "  Downloading jupyter_server-2.0.1-py3-none-any.whl (360 kB)\n",
      "\u001b[K     |████████████████████████████████| 360 kB 29.1 MB/s eta 0:00:01\n",
      "\u001b[?25hCollecting notebook-shim>=0.1.0\n",
      "  Downloading notebook_shim-0.2.2-py3-none-any.whl (13 kB)\n",
      "Collecting tornado\n",
      "  Downloading tornado-6.2-cp37-abi3-macosx_10_9_x86_64.whl (419 kB)\n",
      "\u001b[K     |████████████████████████████████| 419 kB 37.5 MB/s eta 0:00:01\n",
      "\u001b[?25hCollecting jupyter-server-terminals\n",
      "  Downloading jupyter_server_terminals-0.4.2-py3-none-any.whl (13 kB)\n",
      "Collecting websocket-client\n",
      "  Downloading websocket_client-1.4.2-py3-none-any.whl (55 kB)\n",
      "\u001b[K     |████████████████████████████████| 55 kB 9.2 MB/s  eta 0:00:01\n",
      "\u001b[?25hCollecting pyzmq>=13\n",
      "  Downloading pyzmq-24.0.1-cp39-cp39-macosx_10_15_universal2.whl (1.8 MB)\n",
      "\u001b[K     |████████████████████████████████| 1.8 MB 30.8 MB/s eta 0:00:01\n",
      "\u001b[?25hCollecting jupyter-client>=6.1.12\n",
      "  Downloading jupyter_client-7.4.8-py3-none-any.whl (133 kB)\n",
      "\u001b[K     |████████████████████████████████| 133 kB 25.4 MB/s eta 0:00:01\n",
      "\u001b[?25hCollecting anyio<4,>=3.1.0\n",
      "  Downloading anyio-3.6.2-py3-none-any.whl (80 kB)\n",
      "\u001b[K     |████████████████████████████████| 80 kB 15.1 MB/s eta 0:00:01\n",
      "\u001b[?25hCollecting jupyter-events>=0.4.0\n",
      "  Downloading jupyter_events-0.5.0-py3-none-any.whl (17 kB)\n",
      "Requirement already satisfied: idna>=2.8 in /Library/Frameworks/Python.framework/Versions/3.9/lib/python3.9/site-packages (from anyio<4,>=3.1.0->jupyter-server>=1.8->nbclassic>=0.4.7->notebook>=6.0->jupyter_contrib_nbextensions) (3.4)\n",
      "Collecting sniffio>=1.1\n",
      "  Using cached sniffio-1.3.0-py3-none-any.whl (10 kB)\n",
      "Collecting python-json-logger\n",
      "  Downloading python_json_logger-2.0.4-py3-none-any.whl (7.8 kB)\n",
      "Collecting uri-template\n",
      "  Downloading uri_template-1.2.0-py3-none-any.whl (10 kB)\n",
      "Collecting fqdn\n",
      "  Downloading fqdn-1.5.1-py3-none-any.whl (9.1 kB)\n",
      "Collecting rfc3339-validator\n",
      "  Downloading rfc3339_validator-0.1.4-py2.py3-none-any.whl (3.5 kB)\n",
      "Collecting rfc3986-validator>0.1.0\n",
      "  Downloading rfc3986_validator-0.1.1-py2.py3-none-any.whl (4.2 kB)\n",
      "Collecting jsonpointer>1.13\n",
      "  Downloading jsonpointer-2.3-py2.py3-none-any.whl (7.8 kB)\n",
      "Collecting webcolors>=1.11\n",
      "  Downloading webcolors-1.12-py3-none-any.whl (9.9 kB)\n",
      "Collecting isoduration\n",
      "  Downloading isoduration-20.11.0-py3-none-any.whl (11 kB)\n",
      "Requirement already satisfied: six>=1.5 in /Library/Frameworks/Python.framework/Versions/3.9/lib/python3.9/site-packages (from python-dateutil>=2.1->jupyter-client>=6.1.12->nbclient>=0.5.0->nbconvert>=6.0->jupyter_contrib_nbextensions) (1.16.0)\n",
      "Requirement already satisfied: ptyprocess in /Library/Frameworks/Python.framework/Versions/3.9/lib/python3.9/site-packages (from terminado>=0.8.3->notebook>=6.0->jupyter_contrib_nbextensions) (0.7.0)\n",
      "Collecting argon2-cffi-bindings\n",
      "  Downloading argon2_cffi_bindings-21.2.0-cp38-abi3-macosx_10_9_universal2.whl (53 kB)\n",
      "\u001b[K     |████████████████████████████████| 53 kB 3.4 MB/s  eta 0:00:01\n",
      "\u001b[?25hCollecting cffi>=1.0.1\n",
      "  Downloading cffi-1.15.1-cp39-cp39-macosx_10_9_x86_64.whl (179 kB)\n",
      "\u001b[K     |████████████████████████████████| 179 kB 36.9 MB/s eta 0:00:01\n",
      "\u001b[?25hCollecting pycparser\n",
      "  Downloading pycparser-2.21-py2.py3-none-any.whl (118 kB)\n",
      "\u001b[K     |████████████████████████████████| 118 kB 26.8 MB/s eta 0:00:01\n",
      "\u001b[?25hRequirement already satisfied: soupsieve>1.2 in /Library/Frameworks/Python.framework/Versions/3.9/lib/python3.9/site-packages (from beautifulsoup4->nbconvert>=6.0->jupyter_contrib_nbextensions) (2.3.2.post1)\n",
      "Collecting webencodings\n",
      "  Using cached webencodings-0.5.1-py2.py3-none-any.whl (11 kB)\n",
      "Requirement already satisfied: debugpy<2.0,>=1.0.0 in /Library/Frameworks/Python.framework/Versions/3.9/lib/python3.9/site-packages (from ipykernel->notebook>=6.0->jupyter_contrib_nbextensions) (1.5.1)\n",
      "Requirement already satisfied: appnope in /Library/Frameworks/Python.framework/Versions/3.9/lib/python3.9/site-packages (from ipykernel->notebook>=6.0->jupyter_contrib_nbextensions) (0.1.2)\n",
      "Requirement already satisfied: matplotlib-inline<0.2.0,>=0.1.0 in /Library/Frameworks/Python.framework/Versions/3.9/lib/python3.9/site-packages (from ipykernel->notebook>=6.0->jupyter_contrib_nbextensions) (0.1.3)\n",
      "Requirement already satisfied: ipython>=7.23.1 in /Library/Frameworks/Python.framework/Versions/3.9/lib/python3.9/site-packages (from ipykernel->notebook>=6.0->jupyter_contrib_nbextensions) (8.0.0)\n",
      "Requirement already satisfied: black in /Library/Frameworks/Python.framework/Versions/3.9/lib/python3.9/site-packages (from ipython>=7.23.1->ipykernel->notebook>=6.0->jupyter_contrib_nbextensions) (21.12b0)\n",
      "Requirement already satisfied: prompt-toolkit!=3.0.0,!=3.0.1,<3.1.0,>=2.0.0 in /Library/Frameworks/Python.framework/Versions/3.9/lib/python3.9/site-packages (from ipython>=7.23.1->ipykernel->notebook>=6.0->jupyter_contrib_nbextensions) (3.0.24)\n",
      "Requirement already satisfied: stack-data in /Library/Frameworks/Python.framework/Versions/3.9/lib/python3.9/site-packages (from ipython>=7.23.1->ipykernel->notebook>=6.0->jupyter_contrib_nbextensions) (0.1.4)\n",
      "Requirement already satisfied: backcall in /Library/Frameworks/Python.framework/Versions/3.9/lib/python3.9/site-packages (from ipython>=7.23.1->ipykernel->notebook>=6.0->jupyter_contrib_nbextensions) (0.2.0)\n",
      "Requirement already satisfied: pexpect>4.3 in /Library/Frameworks/Python.framework/Versions/3.9/lib/python3.9/site-packages (from ipython>=7.23.1->ipykernel->notebook>=6.0->jupyter_contrib_nbextensions) (4.8.0)\n",
      "Requirement already satisfied: pickleshare in /Library/Frameworks/Python.framework/Versions/3.9/lib/python3.9/site-packages (from ipython>=7.23.1->ipykernel->notebook>=6.0->jupyter_contrib_nbextensions) (0.7.5)\n",
      "Requirement already satisfied: decorator in /Library/Frameworks/Python.framework/Versions/3.9/lib/python3.9/site-packages (from ipython>=7.23.1->ipykernel->notebook>=6.0->jupyter_contrib_nbextensions) (5.1.1)\n",
      "Requirement already satisfied: jedi>=0.16 in /Library/Frameworks/Python.framework/Versions/3.9/lib/python3.9/site-packages (from ipython>=7.23.1->ipykernel->notebook>=6.0->jupyter_contrib_nbextensions) (0.18.1)\n",
      "Requirement already satisfied: parso<0.9.0,>=0.8.0 in /Library/Frameworks/Python.framework/Versions/3.9/lib/python3.9/site-packages (from jedi>=0.16->ipython>=7.23.1->ipykernel->notebook>=6.0->jupyter_contrib_nbextensions) (0.8.3)\n",
      "Requirement already satisfied: wcwidth in /Library/Frameworks/Python.framework/Versions/3.9/lib/python3.9/site-packages (from prompt-toolkit!=3.0.0,!=3.0.1,<3.1.0,>=2.0.0->ipython>=7.23.1->ipykernel->notebook>=6.0->jupyter_contrib_nbextensions) (0.2.5)\n",
      "Requirement already satisfied: mypy-extensions>=0.4.3 in /Library/Frameworks/Python.framework/Versions/3.9/lib/python3.9/site-packages (from black->ipython>=7.23.1->ipykernel->notebook>=6.0->jupyter_contrib_nbextensions) (0.4.3)\n",
      "Requirement already satisfied: pathspec<1,>=0.9.0 in /Library/Frameworks/Python.framework/Versions/3.9/lib/python3.9/site-packages (from black->ipython>=7.23.1->ipykernel->notebook>=6.0->jupyter_contrib_nbextensions) (0.9.0)\n",
      "Requirement already satisfied: click>=7.1.2 in /Library/Frameworks/Python.framework/Versions/3.9/lib/python3.9/site-packages (from black->ipython>=7.23.1->ipykernel->notebook>=6.0->jupyter_contrib_nbextensions) (8.0.3)\n",
      "Requirement already satisfied: typing-extensions>=3.10.0.0 in /Library/Frameworks/Python.framework/Versions/3.9/lib/python3.9/site-packages (from black->ipython>=7.23.1->ipykernel->notebook>=6.0->jupyter_contrib_nbextensions) (4.0.1)\n",
      "Requirement already satisfied: tomli<2.0.0,>=0.2.6 in /Library/Frameworks/Python.framework/Versions/3.9/lib/python3.9/site-packages (from black->ipython>=7.23.1->ipykernel->notebook>=6.0->jupyter_contrib_nbextensions) (1.2.3)\n",
      "Collecting arrow>=0.15.0\n",
      "  Downloading arrow-1.2.3-py3-none-any.whl (66 kB)\n",
      "\u001b[K     |████████████████████████████████| 66 kB 17.0 MB/s eta 0:00:01\n",
      "\u001b[?25hRequirement already satisfied: asttokens in /Library/Frameworks/Python.framework/Versions/3.9/lib/python3.9/site-packages (from stack-data->ipython>=7.23.1->ipykernel->notebook>=6.0->jupyter_contrib_nbextensions) (2.0.5)\n",
      "Requirement already satisfied: executing in /Library/Frameworks/Python.framework/Versions/3.9/lib/python3.9/site-packages (from stack-data->ipython>=7.23.1->ipykernel->notebook>=6.0->jupyter_contrib_nbextensions) (0.8.2)\n",
      "Requirement already satisfied: pure-eval in /Library/Frameworks/Python.framework/Versions/3.9/lib/python3.9/site-packages (from stack-data->ipython>=7.23.1->ipykernel->notebook>=6.0->jupyter_contrib_nbextensions) (0.2.1)\n",
      "Using legacy 'setup.py install' for jupyter-contrib-nbextensions, since package 'wheel' is not installed.\n",
      "Using legacy 'setup.py install' for jupyter-contrib-core, since package 'wheel' is not installed.\n",
      "Using legacy 'setup.py install' for jupyter-nbextensions-configurator, since package 'wheel' is not installed.\n",
      "Installing collected packages: traitlets, pyrsistent, platformdirs, attrs, tornado, pyzmq, pycparser, jupyter-core, jsonschema, fastjsonschema, arrow, zipp, webencodings, webcolors, uri-template, rfc3986-validator, rfc3339-validator, nbformat, markupsafe, jupyter-client, jsonpointer, isoduration, fqdn, cffi, tinycss2, terminado, sniffio, pyyaml, python-json-logger, pandocfilters, nbclient, mistune, jupyterlab-pygments, jinja2, importlib-metadata, defusedxml, bleach, argon2-cffi-bindings, websocket-client, Send2Trash, prometheus-client, nbconvert, jupyter-server-terminals, jupyter-events, argon2-cffi, anyio, jupyter-server, notebook-shim, ipython-genutils, nbclassic, notebook, jupyter-contrib-core, jupyter-nbextensions-configurator, jupyter-highlight-selected-word, jupyter-contrib-nbextensions\n",
      "  Attempting uninstall: traitlets\n",
      "    Found existing installation: traitlets 5.1.1\n",
      "    Uninstalling traitlets-5.1.1:\n",
      "      Successfully uninstalled traitlets-5.1.1\n",
      "  Attempting uninstall: platformdirs\n",
      "    Found existing installation: platformdirs 2.4.1\n",
      "    Uninstalling platformdirs-2.4.1:\n",
      "      Successfully uninstalled platformdirs-2.4.1\n",
      "  Attempting uninstall: tornado\n",
      "    Found existing installation: tornado 6.1\n",
      "    Uninstalling tornado-6.1:\n",
      "      Successfully uninstalled tornado-6.1\n",
      "  Attempting uninstall: pyzmq\n",
      "    Found existing installation: pyzmq 22.3.0\n",
      "    Uninstalling pyzmq-22.3.0:\n",
      "      Successfully uninstalled pyzmq-22.3.0\n",
      "  Attempting uninstall: jupyter-core\n",
      "    Found existing installation: jupyter-core 4.9.1\n",
      "    Uninstalling jupyter-core-4.9.1:\n",
      "      Successfully uninstalled jupyter-core-4.9.1\n",
      "  Attempting uninstall: jupyter-client\n",
      "    Found existing installation: jupyter-client 7.1.1\n",
      "    Uninstalling jupyter-client-7.1.1:\n",
      "      Successfully uninstalled jupyter-client-7.1.1\n",
      "    Running setup.py install for jupyter-contrib-core ... \u001b[?25ldone\n",
      "\u001b[?25h    Running setup.py install for jupyter-nbextensions-configurator ... \u001b[?25ldone\n",
      "\u001b[?25h    Running setup.py install for jupyter-contrib-nbextensions ... \u001b[?25ldone\n",
      "\u001b[?25hSuccessfully installed Send2Trash-1.8.0 anyio-3.6.2 argon2-cffi-21.3.0 argon2-cffi-bindings-21.2.0 arrow-1.2.3 attrs-22.1.0 bleach-5.0.1 cffi-1.15.1 defusedxml-0.7.1 fastjsonschema-2.16.2 fqdn-1.5.1 importlib-metadata-5.1.0 ipython-genutils-0.2.0 isoduration-20.11.0 jinja2-3.1.2 jsonpointer-2.3 jsonschema-4.17.3 jupyter-client-7.4.8 jupyter-contrib-core-0.4.2 jupyter-contrib-nbextensions-0.7.0 jupyter-core-5.1.0 jupyter-events-0.5.0 jupyter-highlight-selected-word-0.2.0 jupyter-nbextensions-configurator-0.6.1 jupyter-server-2.0.1 jupyter-server-terminals-0.4.2 jupyterlab-pygments-0.2.2 markupsafe-2.1.1 mistune-2.0.4 nbclassic-0.4.8 nbclient-0.7.2 nbconvert-7.2.6 nbformat-5.7.0 notebook-6.5.2 notebook-shim-0.2.2 pandocfilters-1.5.0 platformdirs-2.6.0 prometheus-client-0.15.0 pycparser-2.21 pyrsistent-0.19.2 python-json-logger-2.0.4 pyyaml-6.0 pyzmq-24.0.1 rfc3339-validator-0.1.4 rfc3986-validator-0.1.1 sniffio-1.3.0 terminado-0.17.1 tinycss2-1.2.1 tornado-6.2 traitlets-5.7.0 uri-template-1.2.0 webcolors-1.12 webencodings-0.5.1 websocket-client-1.4.2 zipp-3.11.0\n",
      "\u001b[33mWARNING: You are using pip version 21.1.3; however, version 22.3.1 is available.\n",
      "You should consider upgrading via the '/usr/local/bin/python3 -m pip install --upgrade pip' command.\u001b[0m\n",
      "Note: you may need to restart the kernel to use updated packages.\n"
     ]
    }
   ],
   "source": [
    "pip install jupyter_contrib_nbextensions"
   ]
  },
  {
   "cell_type": "code",
   "execution_count": 61,
   "metadata": {},
   "outputs": [
    {
     "name": "stdout",
     "output_type": "stream",
     "text": [
      "Statistics\n",
      "------------  ---------\n",
      "mean          48.8987\n",
      "std           47.4351\n",
      "skew           1.36841\n",
      "kurt           0.489691\n"
     ]
    },
    {
     "name": "stderr",
     "output_type": "stream",
     "text": [
      "/var/folders/k9/750v28vx2jqbkgc108wfp5280000gn/T/ipykernel_84783/1647376811.py:17: MatplotlibDeprecationWarning: The seaborn styles shipped by Matplotlib are deprecated since 3.6, as they no longer correspond to the styles shipped by seaborn. However, they will remain available as 'seaborn-v0_8-<style>'. Alternatively, directly use the seaborn API instead.\n",
      "  plt.style.use('seaborn')\n"
     ]
    },
    {
     "data": {
      "text/plain": [
       "(array([  2.,   0.,   0.,   0.,   2.,   0.,   0.,   3.,   0.,   1.,   7.,\n",
       "          9.,   8.,  20.,  33.,  51., 105., 147., 241., 447., 639., 541.,\n",
       "        397., 275., 132.,  80.,  43.,  25.,  13.,   6.,   7.,   3.,   4.,\n",
       "          2.,   2.,   2.,   1.,   1.,   0.,   1.]),\n",
       " array([-0.12864701, -0.12243562, -0.11622423, -0.11001285, -0.10380146,\n",
       "        -0.09759008, -0.09137869, -0.0851673 , -0.07895592, -0.07274453,\n",
       "        -0.06653314, -0.06032176, -0.05411037, -0.04789898, -0.0416876 ,\n",
       "        -0.03547621, -0.02926483, -0.02305344, -0.01684205, -0.01063067,\n",
       "        -0.00441928,  0.00179211,  0.00800349,  0.01421488,  0.02042627,\n",
       "         0.02663765,  0.03284904,  0.03906042,  0.04527181,  0.0514832 ,\n",
       "         0.05769458,  0.06390597,  0.07011736,  0.07632874,  0.08254013,\n",
       "         0.08875151,  0.0949629 ,  0.10117429,  0.10738567,  0.11359706,\n",
       "         0.11980845]),\n",
       " <BarContainer object of 40 artists>)"
      ]
     },
     "execution_count": 61,
     "metadata": {},
     "output_type": "execute_result"
    },
    {
     "data": {
      "image/png": "[encoded data removed]",
      "text/plain": [
       "<Figure size 576x396 with 1 Axes>"
      ]
     },
     "metadata": {},
     "output_type": "display_data"
    }
   ],
   "source": [
    "from scipy.stats import skew, kurtosis\n",
    "\n",
    "data = fdr.DataReader('AAPL', '2010-01-01', '2022-12-01')\n",
    "data = data[['Adj Close']]\n",
    "\n",
    "#calculate daily return and drop the missing data\n",
    "returns_daily = data.pct_change()\n",
    "returns_daily = returns_daily.dropna()\n",
    "\n",
    "mean = np.mean(data['Adj Close'])\n",
    "std = np.std(data['Adj Close'])\n",
    "skewness = skew(data['Adj Close'])\n",
    "kurt = kurtosis(data['Adj Close'])\n",
    "print(tabulate([['mean',mean],['std',std],['skew',skewness],['kurt',kurt]],headers = ['Statistics',' ']))\n",
    "\n",
    "#show the distribution in graph \n",
    "plt.style.use('seaborn')\n",
    "plt.hist(returns_daily['Adj Close'],bins = 40)"
   ]
  },
  {
   "cell_type": "markdown",
   "metadata": {},
   "source": [
    "## 1. Historical Method \n",
    "This can be seen as a simplified form of Monte Carlo VaR, also known as a historical simulation model, and both estimate VaR by a full valuation method that actually calculates the value of all assets or positions that make up the portfolio through simulation. \n",
    "\n",
    "It has been argued that the historical VaR, which goes through this estimation process, accurately reflects the kurtosis of the market because it is easy to implement and the scenario is derived directly from market data. On the other hand, because the number of scenarios used is limited due to the availability of historical data, this method may have a greater convergence error than Monte Carlo VaR. Of course, this historical VaR can take into account periods, accommodate nonlinearity and nonnormal distributions, reflect both gamma risk and Vega risk and correlations, is not based on specific assumptions about the valuation model or on specific price changes of the underlying asset, and there is not based on a specific valuation model risk. However, if historical data on a specific day are excluded from the analysis without considering the temporarily increased volatility, the risk measurement can change significantly."
   ]
  },
  {
   "cell_type": "code",
   "execution_count": 3,
   "metadata": {},
   "outputs": [
    {
     "name": "stdout",
     "output_type": "stream",
     "text": [
      "Collecting bs4\n",
      "  Using cached bs4-0.0.1-py3-none-any.whl\n",
      "Collecting beautifulsoup4\n",
      "  Using cached beautifulsoup4-4.11.1-py3-none-any.whl (128 kB)\n",
      "Collecting soupsieve>1.2\n",
      "  Using cached soupsieve-2.3.2.post1-py3-none-any.whl (37 kB)\n",
      "Installing collected packages: soupsieve, beautifulsoup4, bs4\n",
      "Successfully installed beautifulsoup4-4.11.1 bs4-0.0.1 soupsieve-2.3.2.post1\n",
      "\u001b[33mWARNING: You are using pip version 21.1.3; however, version 22.3.1 is available.\n",
      "You should consider upgrading via the '/usr/local/bin/python3 -m pip install --upgrade pip' command.\u001b[0m\n",
      "Note: you may need to restart the kernel to use updated packages.\n"
     ]
    }
   ],
   "source": [
    "pip install bs4"
   ]
  },
  {
   "cell_type": "code",
   "execution_count": 1,
   "metadata": {},
   "outputs": [
    {
     "name": "stdout",
     "output_type": "stream",
     "text": [
      "Collecting Finance-DataReader\n",
      "  Using cached finance_datareader-0.9.50-py3-none-any.whl (19 kB)\n",
      "Collecting requests-file\n",
      "  Using cached requests_file-1.5.1-py2.py3-none-any.whl (3.7 kB)\n",
      "Collecting tqdm\n",
      "  Using cached tqdm-4.64.1-py2.py3-none-any.whl (78 kB)\n",
      "Collecting requests>=2.3.0\n",
      "  Using cached requests-2.28.1-py3-none-any.whl (62 kB)\n",
      "Collecting pandas>=0.19.2\n",
      "  Using cached pandas-1.5.2-cp39-cp39-macosx_10_9_x86_64.whl (12.1 MB)\n",
      "Collecting lxml\n",
      "  Using cached lxml-4.9.1-cp39-cp39-macosx_10_15_x86_64.whl (4.6 MB)\n",
      "Collecting numpy>=1.20.3\n",
      "  Using cached numpy-1.23.5-cp39-cp39-macosx_10_9_x86_64.whl (18.1 MB)\n",
      "Requirement already satisfied: python-dateutil>=2.8.1 in /Library/Frameworks/Python.framework/Versions/3.9/lib/python3.9/site-packages (from pandas>=0.19.2->Finance-DataReader) (2.8.2)\n",
      "Collecting pytz>=2020.1\n",
      "  Using cached pytz-2022.6-py2.py3-none-any.whl (498 kB)\n",
      "Requirement already satisfied: six>=1.5 in /Library/Frameworks/Python.framework/Versions/3.9/lib/python3.9/site-packages (from python-dateutil>=2.8.1->pandas>=0.19.2->Finance-DataReader) (1.16.0)\n",
      "Collecting urllib3<1.27,>=1.21.1\n",
      "  Using cached urllib3-1.26.13-py2.py3-none-any.whl (140 kB)\n",
      "Collecting idna<4,>=2.5\n",
      "  Using cached idna-3.4-py3-none-any.whl (61 kB)\n",
      "Collecting charset-normalizer<3,>=2\n",
      "  Using cached charset_normalizer-2.1.1-py3-none-any.whl (39 kB)\n",
      "Requirement already satisfied: certifi>=2017.4.17 in /Library/Frameworks/Python.framework/Versions/3.9/lib/python3.9/site-packages (from requests>=2.3.0->Finance-DataReader) (2021.5.30)\n",
      "Installing collected packages: urllib3, idna, charset-normalizer, requests, pytz, numpy, tqdm, requests-file, pandas, lxml, Finance-DataReader\n",
      "Successfully installed Finance-DataReader-0.9.50 charset-normalizer-2.1.1 idna-3.4 lxml-4.9.1 numpy-1.23.5 pandas-1.5.2 pytz-2022.6 requests-2.28.1 requests-file-1.5.1 tqdm-4.64.1 urllib3-1.26.13\n",
      "\u001b[33mWARNING: You are using pip version 21.1.3; however, version 22.3.1 is available.\n",
      "You should consider upgrading via the '/usr/local/bin/python3 -m pip install --upgrade pip' command.\u001b[0m\n",
      "Note: you may need to restart the kernel to use updated packages.\n"
     ]
    }
   ],
   "source": [
    "pip install Finance-DataReader\n"
   ]
  },
  {
   "cell_type": "code",
   "execution_count": 6,
   "metadata": {},
   "outputs": [
    {
     "name": "stdout",
     "output_type": "stream",
     "text": [
      "Collecting matplotlib\n",
      "  Using cached matplotlib-3.6.2-cp39-cp39-macosx_10_12_x86_64.whl (7.3 MB)\n",
      "Collecting packaging>=20.0\n",
      "  Using cached packaging-22.0-py3-none-any.whl (42 kB)\n",
      "Collecting pyparsing>=2.2.1\n",
      "  Using cached pyparsing-3.0.9-py3-none-any.whl (98 kB)\n",
      "Collecting pillow>=6.2.0\n",
      "  Using cached Pillow-9.3.0-cp39-cp39-macosx_10_10_x86_64.whl (3.3 MB)\n",
      "Requirement already satisfied: python-dateutil>=2.7 in /Library/Frameworks/Python.framework/Versions/3.9/lib/python3.9/site-packages (from matplotlib) (2.8.2)\n",
      "Requirement already satisfied: numpy>=1.19 in /Library/Frameworks/Python.framework/Versions/3.9/lib/python3.9/site-packages (from matplotlib) (1.23.5)\n",
      "Collecting kiwisolver>=1.0.1\n",
      "  Using cached kiwisolver-1.4.4-cp39-cp39-macosx_10_9_x86_64.whl (65 kB)\n",
      "Collecting fonttools>=4.22.0\n",
      "  Using cached fonttools-4.38.0-py3-none-any.whl (965 kB)\n",
      "Collecting cycler>=0.10\n",
      "  Using cached cycler-0.11.0-py3-none-any.whl (6.4 kB)\n",
      "Collecting contourpy>=1.0.1\n",
      "  Using cached contourpy-1.0.6-cp39-cp39-macosx_10_9_x86_64.whl (240 kB)\n",
      "Requirement already satisfied: six>=1.5 in /Library/Frameworks/Python.framework/Versions/3.9/lib/python3.9/site-packages (from python-dateutil>=2.7->matplotlib) (1.16.0)\n",
      "Installing collected packages: pyparsing, pillow, packaging, kiwisolver, fonttools, cycler, contourpy, matplotlib\n",
      "Successfully installed contourpy-1.0.6 cycler-0.11.0 fonttools-4.38.0 kiwisolver-1.4.4 matplotlib-3.6.2 packaging-22.0 pillow-9.3.0 pyparsing-3.0.9\n",
      "\u001b[33mWARNING: You are using pip version 21.1.3; however, version 22.3.1 is available.\n",
      "You should consider upgrading via the '/usr/local/bin/python3 -m pip install --upgrade pip' command.\u001b[0m\n",
      "Note: you may need to restart the kernel to use updated packages.\n"
     ]
    }
   ],
   "source": [
    "pip install matplotlib"
   ]
  },
  {
   "cell_type": "code",
   "execution_count": 8,
   "metadata": {},
   "outputs": [
    {
     "name": "stdout",
     "output_type": "stream",
     "text": [
      "Collecting tabulate\n",
      "  Using cached tabulate-0.9.0-py3-none-any.whl (35 kB)\n",
      "Installing collected packages: tabulate\n",
      "Successfully installed tabulate-0.9.0\n",
      "\u001b[33mWARNING: You are using pip version 21.1.3; however, version 22.3.1 is available.\n",
      "You should consider upgrading via the '/usr/local/bin/python3 -m pip install --upgrade pip' command.\u001b[0m\n",
      "Note: you may need to restart the kernel to use updated packages.\n"
     ]
    }
   ],
   "source": [
    "pip install tabulate"
   ]
  },
  {
   "cell_type": "code",
   "execution_count": 19,
   "metadata": {},
   "outputs": [],
   "source": [
    "#libraries\n",
    "import numpy as np\n",
    "import FinanceDataReader as fdr\n",
    "import matplotlib.pyplot as plt\n",
    "from tabulate import tabulate\n",
    "import pandas as pd"
   ]
  },
  {
   "cell_type": "code",
   "execution_count": 36,
   "metadata": {},
   "outputs": [
    {
     "name": "stdout",
     "output_type": "stream",
     "text": [
      "Confidence level           VaR\n",
      "------------------  ----------\n",
      "90%                 -0.0191951\n",
      "95%                 -0.0270188\n",
      "99%                 -0.0476422\n"
     ]
    },
    {
     "name": "stderr",
     "output_type": "stream",
     "text": [
      "/var/folders/k9/750v28vx2jqbkgc108wfp5280000gn/T/ipykernel_84783/1318405592.py:18: MatplotlibDeprecationWarning: The seaborn styles shipped by Matplotlib are deprecated since 3.6, as they no longer correspond to the styles shipped by seaborn. However, they will remain available as 'seaborn-v0_8-<style>'. Alternatively, directly use the seaborn API instead.\n",
      "  plt.style.use('seaborn')\n"
     ]
    },
    {
     "data": {
      "image/png": "[encoded data removed]",
      "text/plain": [
       "<Figure size 576x396 with 1 Axes>"
      ]
     },
     "metadata": {},
     "output_type": "display_data"
    }
   ],
   "source": [
    "data = fdr.DataReader('AAPL', '2010-01-01', '2022-12-01')\n",
    "data = data[['Adj Close']]\n",
    "\n",
    "\n",
    "#calculate daily return and drop the missing data\n",
    "returns_daily = data.pct_change()\n",
    "returns_daily = returns_daily.dropna()\n",
    "\n",
    "#get VaR\n",
    "returns_daily.sort_values('Adj Close',inplace=True)\n",
    "q_90 = returns_daily['Adj Close'].quantile(0.10)\n",
    "q_95 = returns_daily['Adj Close'].quantile(0.05)\n",
    "q_99 = returns_daily['Adj Close'].quantile(0.01)\n",
    "\n",
    "hist_var = np.array([q_90,q_95,q_99])\n",
    "\n",
    "print(tabulate([['90%',q_90],['95%',q_95],['99%',q_99]],headers = ['Confidence level','VaR']))\n",
    "\n",
    "#graph\n",
    "plt.style.use('seaborn')\n",
    "plt.hist(returns_daily['Adj Close'],bins = 40)\n",
    "\n",
    "#confidence level \n",
    "plt.axvline(x=q_90, color='orange',  ls='--', ymin=0, ymax=0.8, label='90%')\n",
    "plt.axvline(x=q_95, color='purple', ls='--', ymin=0, ymax=0.8, label='95%')\n",
    "plt.axvline(x=q_99, color='black',  ls='--', ymin=0, ymax=0.8, label='99%')\n",
    "\n",
    "plt.title(\"VaR - Historical Method\")\n",
    "plt.xlabel('Returns')\n",
    "plt.ylabel('Frequency')\n",
    "plt.grid(True)\n",
    "plt.legend(bbox_to_anchor=(1.0, 1), loc='upper left')\n",
    "plt.savefig('var_historical.jpg')\n",
    "plt.show()\n",
    "\n",
    "mean = np.mean(returns_daily['Adj Close'])\n",
    "std = np.std(returns_daily['Adj Close'])\n"
   ]
  },
  {
   "cell_type": "markdown",
   "metadata": {},
   "source": [
    "The result shows that there's 90% confidence that over the day the stock will not lose more than 0.019% of the investment, 95% confidence that will not lose more than 0.027%, and 99% confidence that will not lose more than 0.047%. \n"
   ]
  },
  {
   "cell_type": "markdown",
   "metadata": {},
   "source": [
    "# 2. Variance Covariance Method \n",
    "This method is also a type of variance/covariance VaR, also called Greek VaR. This introduces second-order sensitivity to analysis by abandoning the assumption of linearity regarding price volatility of the portfolio among the assumptions of the parametric VaR and adopting a quadratic assumption. Sophisticated calculations are required to obtain accurate VaR estimates by this model, but by orthogonalizing the covariance matrix, the probability variable for the future value of the portfolio can be expressed as the sum of the normal probability variables and constant terms in the chi-squared random variables, and the VaR value of the portfolio can be determined through such characterization. This delta-gamma VaR is reasonable for most portfolios when estimating the adequacy of the secondary assumption and only one day's VaR, except for those portfolios where exposure to exotic derivatives such as near-maturity options or knock-out options is important.\n",
    "\n",
    "And this is not practical even when there are many risk factors. This is because the amount of data needed increases exponentially. However, according to the quantitative criteria for using the BIS's internal model, the bank's internal model must capture the non-linear price characteristics of the option position, and each bank's risk measurement system must have a set of risk factors that capture the potential market rate and price volatility in the option position."
   ]
  },
  {
   "cell_type": "code",
   "execution_count": 13,
   "metadata": {},
   "outputs": [
    {
     "name": "stdout",
     "output_type": "stream",
     "text": [
      "Collecting scipy\n",
      "  Using cached scipy-1.9.3-cp39-cp39-macosx_10_9_x86_64.whl (34.3 MB)\n",
      "Requirement already satisfied: numpy<1.26.0,>=1.18.5 in /Library/Frameworks/Python.framework/Versions/3.9/lib/python3.9/site-packages (from scipy) (1.23.5)\n",
      "Installing collected packages: scipy\n",
      "Successfully installed scipy-1.9.3\n",
      "\u001b[33mWARNING: You are using pip version 21.1.3; however, version 22.3.1 is available.\n",
      "You should consider upgrading via the '/usr/local/bin/python3 -m pip install --upgrade pip' command.\u001b[0m\n",
      "Note: you may need to restart the kernel to use updated packages.\n"
     ]
    }
   ],
   "source": [
    "pip install scipy"
   ]
  },
  {
   "cell_type": "code",
   "execution_count": 15,
   "metadata": {},
   "outputs": [],
   "source": [
    "from scipy.stats import norm"
   ]
  },
  {
   "cell_type": "code",
   "execution_count": 35,
   "metadata": {},
   "outputs": [
    {
     "name": "stdout",
     "output_type": "stream",
     "text": [
      "Confidence level           VaR\n",
      "------------------  ----------\n",
      "90%                 -0.0220449\n",
      "95%                 -0.0286133\n",
      "99%                 -0.0409345\n"
     ]
    },
    {
     "name": "stderr",
     "output_type": "stream",
     "text": [
      "/var/folders/k9/750v28vx2jqbkgc108wfp5280000gn/T/ipykernel_84783/2104722627.py:26: MatplotlibDeprecationWarning: The seaborn styles shipped by Matplotlib are deprecated since 3.6, as they no longer correspond to the styles shipped by seaborn. However, they will remain available as 'seaborn-v0_8-<style>'. Alternatively, directly use the seaborn API instead.\n",
      "  plt.style.use('seaborn')\n"
     ]
    },
    {
     "data": {
      "image/png": "[encoded data removed]",
      "text/plain": [
       "<Figure size 576x396 with 1 Axes>"
      ]
     },
     "metadata": {},
     "output_type": "display_data"
    }
   ],
   "source": [
    "# get data from FinanceDataReader library\n",
    "data = fdr.DataReader('AAPL', '2010-01-01', '2022-12-01')\n",
    "data = data[['Adj Close']]\n",
    "\n",
    "\n",
    "# calculate daily revenue / drop na values\n",
    "returns_daily = data.pct_change()\n",
    "returns_daily = returns_daily.dropna()\n",
    "\n",
    "#mean, std\n",
    "mean = np.mean(returns_daily['Adj Close'])\n",
    "std = np.std(returns_daily['Adj Close'])\n",
    "\n",
    "# VaR\n",
    "returns_daily.sort_values('Adj Close',inplace=True)\n",
    "var_90 = norm.ppf(1-0.90,mean,std) #ppf : Percent point function\n",
    "var_95 = norm.ppf(1-0.95,mean,std)\n",
    "var_99 = norm.ppf(1-0.99,mean,std)\n",
    "\n",
    "#result\n",
    "print(tabulate([['90%',var_90],['95%',var_95],['99%',var_99]],headers = ['Confidence level','VaR']))\n",
    "\n",
    "#graph\n",
    "import matplotlib.pyplot as plt\n",
    "from scipy.stats import norm\n",
    "plt.style.use('seaborn')\n",
    "\n",
    "plt.hist(returns_daily['Adj Close'],bins = 40, density = True)\n",
    "x = np.linspace(mean-3*std,mean+3*std,100)\n",
    "plt.plot(x,norm.pdf(x,mean,std),\"r\") #pdf : Probability density function\n",
    "\n",
    "#mark confidence level\n",
    "plt.axvline(x=var_90, color='orange', ls='--', ymin=0, ymax=0.8, label='90%')\n",
    "plt.axvline(x=var_95, color='purple', ls='--', ymin=0, ymax=0.8, label='95%')\n",
    "plt.axvline(x=var_99, color='black', ls='--', ymin=0, ymax=0.8, label='99%')\n",
    "\n",
    "plt.title(\"VaR - Variance Covariance Method\")\n",
    "plt.xlabel('Returns')\n",
    "plt.ylabel('Frequency')\n",
    "plt.grid(True)\n",
    "plt.legend(bbox_to_anchor=(1.0, 1), loc='upper left')\n",
    "plt.show()"
   ]
  },
  {
   "cell_type": "markdown",
   "metadata": {},
   "source": [
    "The result shows that there's 90% confidence that over the day the stock will not lose more than 0.022% of the investment, 95% confidence that will not lose more than 0.028%, and 99% confidence that will not lose more than 0.040%. \n"
   ]
  },
  {
   "cell_type": "markdown",
   "metadata": {},
   "source": [
    "# 3. Monte Carlo Simulation\n",
    "It is also known as the Monte Carlo or Stochastic simulations model, and is recognized as the most effective way to flexibly evaluate the value of a complex portfolio in various market situations. However, it originated from a method that was applied to roulette games at a famous casino in Monaco, and was initially proposed for valuation of options. The simulation method for the change in market factors in Monte Carlo VaR includes statistical statistical simulation, and matrix multiplication and parameter portfolio revaluation are used as methods to simulate changes in the value of the portfolio.\n",
    "\n",
    "This Monte Carlo simulation method defines (1) parameters for the market factors (e.g., various interest rates, foreign exchange rates, stock prices, etc.), selects a constant probability model to generate changes in the market factors, and estimates the parameters using historical market data or option data. (2) Based on the estimates of the prescribed parameters, starting with the current price of the market factors and generating random variables in order, the virtual market prices continue to be calculated as many as desired (e.g., 10,000 times). (3) Based on the obtained virtual market price, the value of all assets or positions in the portfolio is calculated as many as desired using a certain valuation model, and the complete distribution of the portfolio's value change (profit or loss) over the target period is formed and the Monte Carlo VaR value is estimated.\n",
    "\n",
    "This Monte Carlo VaR can take into account various types of risk and variability changes, such as nonlinear price risk and volatility risk, thick fat tail attributes, and extreme situations, and credit risk to some extent. However, the biggest disadvantages are that it is not easy to implement and that it takes a lot of time even on high-speed computers, so if the asset valuation model is complicated, it will be difficult to implement this method frequently. In addition, this method relies on a pricing model such as options, as well as a special probability process of risk factors, so there is a risk that the model will go wrong and should be used in conjunction with other sensitivity analyses."
   ]
  },
  {
   "cell_type": "code",
   "execution_count": 34,
   "metadata": {},
   "outputs": [
    {
     "name": "stderr",
     "output_type": "stream",
     "text": [
      "/Library/Frameworks/Python.framework/Versions/3.9/lib/python3.9/site-packages/pandas/core/arraylike.py:402: RuntimeWarning: invalid value encountered in log\n",
      "  result = getattr(ufunc, method)(*inputs, **kwargs)\n",
      "/var/folders/k9/750v28vx2jqbkgc108wfp5280000gn/T/ipykernel_84783/814521748.py:28: MatplotlibDeprecationWarning: The seaborn styles shipped by Matplotlib are deprecated since 3.6, as they no longer correspond to the styles shipped by seaborn. However, they will remain available as 'seaborn-v0_8-<style>'. Alternatively, directly use the seaborn API instead.\n",
      "  plt.style.use('seaborn') #스타일\n"
     ]
    },
    {
     "name": "stdout",
     "output_type": "stream",
     "text": [
      "Confidence level           VaR\n",
      "------------------  ----------\n",
      "90%                 -0.0229495\n",
      "95%                 -0.0292803\n",
      "99%                 -0.0414315\n"
     ]
    },
    {
     "data": {
      "image/png": "[encoded data removed]",
      "text/plain": [
       "<Figure size 576x396 with 1 Axes>"
      ]
     },
     "metadata": {},
     "output_type": "display_data"
    }
   ],
   "source": [
    "\n",
    "data = fdr.DataReader('AAPL', '2010-01-01', '2022-12-01')\n",
    "data = data[['Adj Close']]\n",
    "\n",
    "TRADING_DAYS = data.shape[0]\n",
    "\n",
    "# Log revenue\n",
    "data['Log Rets'] = np.log(data['Adj Close'] / data['Adj Close'].shift(1))\n",
    "\n",
    "# daily standard deviation and annual volatility\n",
    "daily_vol = np.std(data['Log Rets'])\n",
    "vol = daily_vol * TRADING_DAYS ** 0.5\n",
    "\n",
    "t = 1 #risk after t day\n",
    "\n",
    "def MC_VaR(er, vol, T, iterations):\n",
    "    end = np.exp((er * vol ** 2) * T +\n",
    "                     vol * np.sqrt(T) * np.random.standard_normal(iterations))\n",
    "    return end\n",
    "\n",
    "at_risk = MC_VaR(er=0.25, vol=vol, T=t/TRADING_DAYS, iterations=50000) -1\n",
    "\n",
    "percentiles = [1,5,10]\n",
    "v99,v95,v90 = np.percentile(at_risk, percentiles)\n",
    "print(tabulate([['90%',v90],['95%',v95],['99%',v99]],headers = ['Confidence level','VaR']))\n",
    "\n",
    "#graph\n",
    "import matplotlib.pyplot as plt\n",
    "plt.style.use('seaborn') #스타일\n",
    "\n",
    "#bar graph\n",
    "plt.hist(at_risk,bins = 40)\n",
    "\n",
    "#confidence level\n",
    "plt.axvline(x=v99, color='black',  ls='--', ymin=0, ymax=0.8, label='90%')\n",
    "plt.axvline(x=v95, color='purple', ls='--', ymin=0, ymax=0.8, label='95%')\n",
    "plt.axvline(x=v90, color='orange',  ls='--', ymin=0, ymax=0.8, label='99%')\n",
    "\n",
    "plt.title(\"VaR - Monte Carlo Simulation\")\n",
    "plt.xlabel('Returns')\n",
    "plt.ylabel('Count of Simulations')\n",
    "plt.grid(True)\n",
    "plt.legend(bbox_to_anchor=(1.0, 1), loc='upper left')\n",
    "plt.show()\n",
    "\n"
   ]
  },
  {
   "cell_type": "markdown",
   "metadata": {},
   "source": [
    "The result shows that there's 90% confidence that over the day the stock will not lose more than 0.0229% of the investment, 95% confidence that will not lose more than 0.029%, and 99% confidence that will not lose more than 0.041%. "
   ]
  },
  {
   "cell_type": "markdown",
   "metadata": {},
   "source": [
    "# Result\n",
    "\n",
    "Comparing the reusults of 3 different calculation of VaR, it doesn't show the big difference but only the slight difference. "
   ]
  },
  {
   "cell_type": "code",
   "execution_count": 33,
   "metadata": {},
   "outputs": [
    {
     "name": "stdout",
     "output_type": "stream",
     "text": [
      "Confidence level      VaR_historical    VaR_variance/Covariance    VaR_MonteCarlo\n",
      "------------------  ----------------  -------------------------  ----------------\n",
      "90%                       -0.0191949                 -0.0220449        -0.0228494\n",
      "95%                       -0.0270188                 -0.0286133        -0.0294078\n",
      "99%                       -0.047642                  -0.0409345        -0.0413573\n"
     ]
    }
   ],
   "source": [
    "print(tabulate([['90%',q_90,var_90, v90],['95%',q_95,var_95,v95],['99%',q_99,var_99,v99]],headers = ['Confidence level','VaR_historical','VaR_variance/Covariance','VaR_MonteCarlo']))\n"
   ]
  }
 ],
 "metadata": {
  "kernelspec": {
   "display_name": "Python 3.9.6 64-bit",
   "language": "python",
   "name": "python3"
  },
  "language_info": {
   "codemirror_mode": {
    "name": "ipython",
    "version": 3
   },
   "file_extension": ".py",
   "mimetype": "text/x-python",
   "name": "python",
   "nbconvert_exporter": "python",
   "pygments_lexer": "ipython3",
   "version": "3.9.6"
  },
  "orig_nbformat": 4,
  "vscode": {
   "interpreter": {
    "hash": "aee8b7b246df8f9039afb4144a1f6fd8d2ca17a180786b69acc140d282b71a49"
   }
  }
 },
 "nbformat": 4,
 "nbformat_minor": 2
}
